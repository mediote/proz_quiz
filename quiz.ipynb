{
 "cells": [
  {
   "cell_type": "code",
   "execution_count": null,
   "metadata": {},
   "outputs": [],
   "source": [
    "import pandas as pd\n",
    "\n",
    "enfermagem = pd.read_csv('nivelamento_enfermagem.csv')\n",
    "enfermagem = enfermagem.sort_values(by=['titulo_objeto'])\n",
    "\n",
    "\n",
    "demais_cursos = pd.read_csv('demais_cursos.csv')\n",
    "demais_cursos = demais_cursos.sort_values(by=['titulo_objeto'])"
   ]
  },
  {
   "cell_type": "markdown",
   "metadata": {},
   "source": [
    "### Carregando dados Google Drive (Somente se estiver usando o Google Colab)"
   ]
  },
  {
   "cell_type": "code",
   "execution_count": null,
   "metadata": {},
   "outputs": [],
   "source": [
    "import pandas as pd\n",
    "from google.colab import drive\n",
    "drive.mount('/content/drive')\n",
    "\n",
    "enfermagem = pd.read_csv('/content/drive/MyDrive/datasets/proz/nivelamento_enfermagem.csv')\n",
    "enfermagem = enfermagem.sort_values(by=['titulo_objeto'])\n",
    "\n",
    "\n",
    "demais_cursos = pd.read_csv('/content/drive/MyDrive/datasets/proz/demais_cursos.csv')\n",
    "demais_cursos = demais_cursos.sort_values(by=['titulo_objeto'])\n"
   ]
  },
  {
   "cell_type": "markdown",
   "metadata": {},
   "source": [
    "### Função para geração dos Histogramas"
   ]
  },
  {
   "cell_type": "code",
   "execution_count": null,
   "metadata": {},
   "outputs": [],
   "source": [
    "from plotly.subplots import make_subplots\n",
    "import plotly.graph_objects as go\n",
    "\n",
    "\n",
    "def plot_quiz_hist(quiz_data, n_rows, n_cols):\n",
    "\n",
    "    quiz_range = len(\n",
    "        quiz_data[quiz_data.titulo_objeto.str.contains(\"D\")].titulo_objeto.unique())\n",
    "\n",
    "\n",
    "    fig = make_subplots(\n",
    "        rows=n_rows,\n",
    "        cols=n_cols,\n",
    "        subplot_titles=([(lambda x: f'Quiz {x}'.format(x))(x)\n",
    "                        for x in range(1, quiz_range + 1)])\n",
    "    )\n",
    "\n",
    "    subplots_rows = 1\n",
    "    subplots_cols = 1\n",
    "\n",
    "\n",
    "    for i in range(1, quiz_range + 1):\n",
    "        x0 = quiz_data[quiz_data.titulo_objeto ==\n",
    "                         f'Quiz {i}'.format(i)].pontuacao\n",
    "        x1 = quiz_data[quiz_data.titulo_objeto ==\n",
    "                         f'Quiz {i} D'.format(i)].pontuacao\n",
    "\n",
    "        q_number = i\n",
    "\n",
    "        fig.add_trace(\n",
    "            go.Histogram(\n",
    "                x=x0,\n",
    "                name=f'Quiz {q_number}'.format(q_number),\n",
    "                nbinsx=10,\n",
    "                marker_color='#FF7F00',\n",
    "                histnorm=\"density\"\n",
    "            ),\n",
    "            row=subplots_rows, col=subplots_cols\n",
    "        )\n",
    "\n",
    "        fig.add_trace(\n",
    "            go.Histogram(\n",
    "                x=x1,\n",
    "                name=f'Quiz {q_number} D'.format(q_number),\n",
    "                nbinsx=10,\n",
    "                marker_color='#593493',\n",
    "                histnorm=\"density\"\n",
    "            ),\n",
    "            row=subplots_rows, col=subplots_cols\n",
    "        )\n",
    "\n",
    "        if subplots_cols == n_cols:\n",
    "            subplots_cols = 1\n",
    "            subplots_rows += 1\n",
    "        else:\n",
    "            subplots_cols += 1\n",
    "\n",
    "    fig.update_layout(barmode='stack', height=1000, width=1250,\n",
    "                      title_text=\"Quiz\", showlegend=False)\n",
    "    fig.update_xaxes(range=[0, 110], tick0=0, dtick=20) \n",
    "    fig.show()"
   ]
  },
  {
   "cell_type": "markdown",
   "metadata": {},
   "source": [
    "### Função para geração dos BoxPlots"
   ]
  },
  {
   "cell_type": "code",
   "execution_count": null,
   "metadata": {},
   "outputs": [],
   "source": [
    "import plotly.graph_objects as go\n",
    "from plotly.subplots import make_subplots\n",
    "\n",
    "\n",
    "def plot_quiz_box(quiz_data, n_rows, n_cols):\n",
    "\n",
    "    quiz_range = len(\n",
    "        quiz_data[quiz_data.titulo_objeto.str.contains(\"D\")].titulo_objeto.unique())\n",
    "\n",
    "\n",
    "    fig = make_subplots(\n",
    "        rows=n_rows,\n",
    "        cols=n_cols,\n",
    "        subplot_titles=([(lambda x: f'Quiz {x}'.format(x))(x)\n",
    "                        for x in range(1, quiz_range + 1)])\n",
    "    )\n",
    "\n",
    "    subplots_rows = 1\n",
    "    subplots_cols = 1\n",
    "\n",
    "    for i in range(1, quiz_range + 1):\n",
    "\n",
    "        x0 = quiz_data[quiz_data.titulo_objeto ==\n",
    "                             f'Quiz {i}'.format(i)].pontuacao\n",
    "        x1 = quiz_data[quiz_data.titulo_objeto ==\n",
    "                             f'Quiz {i} D'.format(i)].pontuacao\n",
    "\n",
    "        q_number = i\n",
    "\n",
    "        fig.add_trace(\n",
    "                  go.Box(\n",
    "                      y=x0,\n",
    "                      name=f'Quiz {q_number}'.format(q_number),\n",
    "                      marker_color='#FF7F00'\n",
    "                  ),\n",
    "                  row=subplots_rows, col=subplots_cols\n",
    "              )\n",
    "\n",
    "        fig.add_trace(\n",
    "                  go.Box(\n",
    "                      y=x1,\n",
    "                      name=f'Quiz {q_number} D'.format(q_number),\n",
    "                      marker_color='#593493'\n",
    "                  ),\n",
    "                  row=subplots_rows, col=subplots_cols\n",
    "              )\n",
    "\n",
    "        if subplots_cols == n_cols:\n",
    "            subplots_cols = 1\n",
    "            subplots_rows += 1\n",
    "        else:\n",
    "            subplots_cols += 1\n",
    "\n",
    "\n",
    "    fig.update_layout(title_text=\"Quiz\", showlegend=False, \n",
    "                      height=1000, width=1250,)\n",
    "    fig.update_traces(boxmean=True)\n",
    "    fig.update_traces(orientation='v')\n",
    "    fig.show()"
   ]
  },
  {
   "cell_type": "markdown",
   "metadata": {},
   "source": [
    "### Visualizando Histogramas"
   ]
  },
  {
   "cell_type": "code",
   "execution_count": null,
   "metadata": {},
   "outputs": [],
   "source": [
    "plot_quiz_hist(quiz_data=enfermagem, n_rows=5, n_cols=3)"
   ]
  },
  {
   "cell_type": "code",
   "execution_count": null,
   "metadata": {},
   "outputs": [],
   "source": [
    "plot_quiz_hist(quiz_data=demais_cursos, n_rows=5, n_cols=3)"
   ]
  },
  {
   "cell_type": "markdown",
   "metadata": {},
   "source": [
    "### Visualizando BoxPlots"
   ]
  },
  {
   "cell_type": "code",
   "execution_count": null,
   "metadata": {},
   "outputs": [],
   "source": [
    "plot_quiz_box(quiz_data=enfermagem, n_rows=5, n_cols=3)"
   ]
  },
  {
   "cell_type": "code",
   "execution_count": null,
   "metadata": {},
   "outputs": [],
   "source": [
    "plot_quiz_box(quiz_data=demais_cursos, n_rows=5, n_cols=3)"
   ]
  },
  {
   "cell_type": "code",
   "execution_count": 82,
   "metadata": {},
   "outputs": [
    {
     "data": {
      "application/vnd.plotly.v1+json": {
       "config": {
        "plotlyServerURL": "https://plot.ly"
       },
       "data": [
        {
         "cumulative": {
          "enabled": true
         },
         "histnorm": "density",
         "name": "Quiz 1",
         "opacity": 0.75,
         "type": "histogram",
         "x": [
          75,
          75,
          33,
          100,
          100,
          100,
          100,
          100,
          50,
          100,
          100,
          25,
          100,
          100,
          100,
          75,
          100,
          50,
          75,
          100,
          100,
          100,
          100,
          100,
          66,
          33,
          100,
          75,
          66,
          50,
          50,
          75,
          100,
          100,
          100,
          100,
          75,
          50,
          66,
          100,
          100,
          100,
          100,
          75,
          66,
          25,
          100,
          100,
          100,
          75,
          100,
          75,
          100,
          0,
          100,
          66,
          25,
          100,
          66,
          100,
          100,
          25,
          100,
          100,
          100,
          75,
          33,
          75,
          66,
          25,
          75,
          100,
          75,
          75,
          100,
          75,
          100,
          75,
          75,
          75,
          33,
          75,
          50,
          66,
          100,
          100,
          100,
          100,
          75,
          75,
          75,
          75,
          66,
          75,
          100,
          100,
          100,
          100,
          100,
          100,
          100,
          100,
          100,
          100,
          75,
          100,
          66,
          50,
          100,
          33,
          50,
          75,
          100,
          100,
          25,
          75,
          100,
          66,
          50,
          100,
          50,
          100,
          100,
          50,
          100,
          100,
          100,
          100,
          75,
          50,
          75,
          75,
          100,
          0,
          25,
          25,
          50,
          66,
          25,
          100,
          100,
          75,
          100,
          75,
          75,
          75,
          66,
          66,
          0,
          75,
          75,
          66,
          75,
          75,
          50,
          25,
          100,
          66,
          66,
          100,
          75,
          33,
          25,
          100,
          100,
          25,
          66,
          50,
          50,
          50,
          0,
          25,
          50,
          50,
          50,
          66,
          100,
          100,
          50,
          100,
          66,
          100,
          33,
          33,
          50,
          50,
          25,
          100,
          100,
          25,
          0,
          25,
          0,
          50,
          75,
          66,
          50,
          100,
          100,
          75,
          75,
          66,
          75,
          100,
          50,
          100,
          100,
          75
         ]
        }
       ],
       "layout": {
        "barmode": "overlay",
        "height": 500,
        "showlegend": true,
        "template": {
         "data": {
          "bar": [
           {
            "error_x": {
             "color": "#2a3f5f"
            },
            "error_y": {
             "color": "#2a3f5f"
            },
            "marker": {
             "line": {
              "color": "#E5ECF6",
              "width": 0.5
             },
             "pattern": {
              "fillmode": "overlay",
              "size": 10,
              "solidity": 0.2
             }
            },
            "type": "bar"
           }
          ],
          "barpolar": [
           {
            "marker": {
             "line": {
              "color": "#E5ECF6",
              "width": 0.5
             },
             "pattern": {
              "fillmode": "overlay",
              "size": 10,
              "solidity": 0.2
             }
            },
            "type": "barpolar"
           }
          ],
          "carpet": [
           {
            "aaxis": {
             "endlinecolor": "#2a3f5f",
             "gridcolor": "white",
             "linecolor": "white",
             "minorgridcolor": "white",
             "startlinecolor": "#2a3f5f"
            },
            "baxis": {
             "endlinecolor": "#2a3f5f",
             "gridcolor": "white",
             "linecolor": "white",
             "minorgridcolor": "white",
             "startlinecolor": "#2a3f5f"
            },
            "type": "carpet"
           }
          ],
          "choropleth": [
           {
            "colorbar": {
             "outlinewidth": 0,
             "ticks": ""
            },
            "type": "choropleth"
           }
          ],
          "contour": [
           {
            "colorbar": {
             "outlinewidth": 0,
             "ticks": ""
            },
            "colorscale": [
             [
              0,
              "#0d0887"
             ],
             [
              0.1111111111111111,
              "#46039f"
             ],
             [
              0.2222222222222222,
              "#7201a8"
             ],
             [
              0.3333333333333333,
              "#9c179e"
             ],
             [
              0.4444444444444444,
              "#bd3786"
             ],
             [
              0.5555555555555556,
              "#d8576b"
             ],
             [
              0.6666666666666666,
              "#ed7953"
             ],
             [
              0.7777777777777778,
              "#fb9f3a"
             ],
             [
              0.8888888888888888,
              "#fdca26"
             ],
             [
              1,
              "#f0f921"
             ]
            ],
            "type": "contour"
           }
          ],
          "contourcarpet": [
           {
            "colorbar": {
             "outlinewidth": 0,
             "ticks": ""
            },
            "type": "contourcarpet"
           }
          ],
          "heatmap": [
           {
            "colorbar": {
             "outlinewidth": 0,
             "ticks": ""
            },
            "colorscale": [
             [
              0,
              "#0d0887"
             ],
             [
              0.1111111111111111,
              "#46039f"
             ],
             [
              0.2222222222222222,
              "#7201a8"
             ],
             [
              0.3333333333333333,
              "#9c179e"
             ],
             [
              0.4444444444444444,
              "#bd3786"
             ],
             [
              0.5555555555555556,
              "#d8576b"
             ],
             [
              0.6666666666666666,
              "#ed7953"
             ],
             [
              0.7777777777777778,
              "#fb9f3a"
             ],
             [
              0.8888888888888888,
              "#fdca26"
             ],
             [
              1,
              "#f0f921"
             ]
            ],
            "type": "heatmap"
           }
          ],
          "heatmapgl": [
           {
            "colorbar": {
             "outlinewidth": 0,
             "ticks": ""
            },
            "colorscale": [
             [
              0,
              "#0d0887"
             ],
             [
              0.1111111111111111,
              "#46039f"
             ],
             [
              0.2222222222222222,
              "#7201a8"
             ],
             [
              0.3333333333333333,
              "#9c179e"
             ],
             [
              0.4444444444444444,
              "#bd3786"
             ],
             [
              0.5555555555555556,
              "#d8576b"
             ],
             [
              0.6666666666666666,
              "#ed7953"
             ],
             [
              0.7777777777777778,
              "#fb9f3a"
             ],
             [
              0.8888888888888888,
              "#fdca26"
             ],
             [
              1,
              "#f0f921"
             ]
            ],
            "type": "heatmapgl"
           }
          ],
          "histogram": [
           {
            "marker": {
             "pattern": {
              "fillmode": "overlay",
              "size": 10,
              "solidity": 0.2
             }
            },
            "type": "histogram"
           }
          ],
          "histogram2d": [
           {
            "colorbar": {
             "outlinewidth": 0,
             "ticks": ""
            },
            "colorscale": [
             [
              0,
              "#0d0887"
             ],
             [
              0.1111111111111111,
              "#46039f"
             ],
             [
              0.2222222222222222,
              "#7201a8"
             ],
             [
              0.3333333333333333,
              "#9c179e"
             ],
             [
              0.4444444444444444,
              "#bd3786"
             ],
             [
              0.5555555555555556,
              "#d8576b"
             ],
             [
              0.6666666666666666,
              "#ed7953"
             ],
             [
              0.7777777777777778,
              "#fb9f3a"
             ],
             [
              0.8888888888888888,
              "#fdca26"
             ],
             [
              1,
              "#f0f921"
             ]
            ],
            "type": "histogram2d"
           }
          ],
          "histogram2dcontour": [
           {
            "colorbar": {
             "outlinewidth": 0,
             "ticks": ""
            },
            "colorscale": [
             [
              0,
              "#0d0887"
             ],
             [
              0.1111111111111111,
              "#46039f"
             ],
             [
              0.2222222222222222,
              "#7201a8"
             ],
             [
              0.3333333333333333,
              "#9c179e"
             ],
             [
              0.4444444444444444,
              "#bd3786"
             ],
             [
              0.5555555555555556,
              "#d8576b"
             ],
             [
              0.6666666666666666,
              "#ed7953"
             ],
             [
              0.7777777777777778,
              "#fb9f3a"
             ],
             [
              0.8888888888888888,
              "#fdca26"
             ],
             [
              1,
              "#f0f921"
             ]
            ],
            "type": "histogram2dcontour"
           }
          ],
          "mesh3d": [
           {
            "colorbar": {
             "outlinewidth": 0,
             "ticks": ""
            },
            "type": "mesh3d"
           }
          ],
          "parcoords": [
           {
            "line": {
             "colorbar": {
              "outlinewidth": 0,
              "ticks": ""
             }
            },
            "type": "parcoords"
           }
          ],
          "pie": [
           {
            "automargin": true,
            "type": "pie"
           }
          ],
          "scatter": [
           {
            "fillpattern": {
             "fillmode": "overlay",
             "size": 10,
             "solidity": 0.2
            },
            "type": "scatter"
           }
          ],
          "scatter3d": [
           {
            "line": {
             "colorbar": {
              "outlinewidth": 0,
              "ticks": ""
             }
            },
            "marker": {
             "colorbar": {
              "outlinewidth": 0,
              "ticks": ""
             }
            },
            "type": "scatter3d"
           }
          ],
          "scattercarpet": [
           {
            "marker": {
             "colorbar": {
              "outlinewidth": 0,
              "ticks": ""
             }
            },
            "type": "scattercarpet"
           }
          ],
          "scattergeo": [
           {
            "marker": {
             "colorbar": {
              "outlinewidth": 0,
              "ticks": ""
             }
            },
            "type": "scattergeo"
           }
          ],
          "scattergl": [
           {
            "marker": {
             "colorbar": {
              "outlinewidth": 0,
              "ticks": ""
             }
            },
            "type": "scattergl"
           }
          ],
          "scattermapbox": [
           {
            "marker": {
             "colorbar": {
              "outlinewidth": 0,
              "ticks": ""
             }
            },
            "type": "scattermapbox"
           }
          ],
          "scatterpolar": [
           {
            "marker": {
             "colorbar": {
              "outlinewidth": 0,
              "ticks": ""
             }
            },
            "type": "scatterpolar"
           }
          ],
          "scatterpolargl": [
           {
            "marker": {
             "colorbar": {
              "outlinewidth": 0,
              "ticks": ""
             }
            },
            "type": "scatterpolargl"
           }
          ],
          "scatterternary": [
           {
            "marker": {
             "colorbar": {
              "outlinewidth": 0,
              "ticks": ""
             }
            },
            "type": "scatterternary"
           }
          ],
          "surface": [
           {
            "colorbar": {
             "outlinewidth": 0,
             "ticks": ""
            },
            "colorscale": [
             [
              0,
              "#0d0887"
             ],
             [
              0.1111111111111111,
              "#46039f"
             ],
             [
              0.2222222222222222,
              "#7201a8"
             ],
             [
              0.3333333333333333,
              "#9c179e"
             ],
             [
              0.4444444444444444,
              "#bd3786"
             ],
             [
              0.5555555555555556,
              "#d8576b"
             ],
             [
              0.6666666666666666,
              "#ed7953"
             ],
             [
              0.7777777777777778,
              "#fb9f3a"
             ],
             [
              0.8888888888888888,
              "#fdca26"
             ],
             [
              1,
              "#f0f921"
             ]
            ],
            "type": "surface"
           }
          ],
          "table": [
           {
            "cells": {
             "fill": {
              "color": "#EBF0F8"
             },
             "line": {
              "color": "white"
             }
            },
            "header": {
             "fill": {
              "color": "#C8D4E3"
             },
             "line": {
              "color": "white"
             }
            },
            "type": "table"
           }
          ]
         },
         "layout": {
          "annotationdefaults": {
           "arrowcolor": "#2a3f5f",
           "arrowhead": 0,
           "arrowwidth": 1
          },
          "autotypenumbers": "strict",
          "coloraxis": {
           "colorbar": {
            "outlinewidth": 0,
            "ticks": ""
           }
          },
          "colorscale": {
           "diverging": [
            [
             0,
             "#8e0152"
            ],
            [
             0.1,
             "#c51b7d"
            ],
            [
             0.2,
             "#de77ae"
            ],
            [
             0.3,
             "#f1b6da"
            ],
            [
             0.4,
             "#fde0ef"
            ],
            [
             0.5,
             "#f7f7f7"
            ],
            [
             0.6,
             "#e6f5d0"
            ],
            [
             0.7,
             "#b8e186"
            ],
            [
             0.8,
             "#7fbc41"
            ],
            [
             0.9,
             "#4d9221"
            ],
            [
             1,
             "#276419"
            ]
           ],
           "sequential": [
            [
             0,
             "#0d0887"
            ],
            [
             0.1111111111111111,
             "#46039f"
            ],
            [
             0.2222222222222222,
             "#7201a8"
            ],
            [
             0.3333333333333333,
             "#9c179e"
            ],
            [
             0.4444444444444444,
             "#bd3786"
            ],
            [
             0.5555555555555556,
             "#d8576b"
            ],
            [
             0.6666666666666666,
             "#ed7953"
            ],
            [
             0.7777777777777778,
             "#fb9f3a"
            ],
            [
             0.8888888888888888,
             "#fdca26"
            ],
            [
             1,
             "#f0f921"
            ]
           ],
           "sequentialminus": [
            [
             0,
             "#0d0887"
            ],
            [
             0.1111111111111111,
             "#46039f"
            ],
            [
             0.2222222222222222,
             "#7201a8"
            ],
            [
             0.3333333333333333,
             "#9c179e"
            ],
            [
             0.4444444444444444,
             "#bd3786"
            ],
            [
             0.5555555555555556,
             "#d8576b"
            ],
            [
             0.6666666666666666,
             "#ed7953"
            ],
            [
             0.7777777777777778,
             "#fb9f3a"
            ],
            [
             0.8888888888888888,
             "#fdca26"
            ],
            [
             1,
             "#f0f921"
            ]
           ]
          },
          "colorway": [
           "#636efa",
           "#EF553B",
           "#00cc96",
           "#ab63fa",
           "#FFA15A",
           "#19d3f3",
           "#FF6692",
           "#B6E880",
           "#FF97FF",
           "#FECB52"
          ],
          "font": {
           "color": "#2a3f5f"
          },
          "geo": {
           "bgcolor": "white",
           "lakecolor": "white",
           "landcolor": "#E5ECF6",
           "showlakes": true,
           "showland": true,
           "subunitcolor": "white"
          },
          "hoverlabel": {
           "align": "left"
          },
          "hovermode": "closest",
          "mapbox": {
           "style": "light"
          },
          "paper_bgcolor": "white",
          "plot_bgcolor": "#E5ECF6",
          "polar": {
           "angularaxis": {
            "gridcolor": "white",
            "linecolor": "white",
            "ticks": ""
           },
           "bgcolor": "#E5ECF6",
           "radialaxis": {
            "gridcolor": "white",
            "linecolor": "white",
            "ticks": ""
           }
          },
          "scene": {
           "xaxis": {
            "backgroundcolor": "#E5ECF6",
            "gridcolor": "white",
            "gridwidth": 2,
            "linecolor": "white",
            "showbackground": true,
            "ticks": "",
            "zerolinecolor": "white"
           },
           "yaxis": {
            "backgroundcolor": "#E5ECF6",
            "gridcolor": "white",
            "gridwidth": 2,
            "linecolor": "white",
            "showbackground": true,
            "ticks": "",
            "zerolinecolor": "white"
           },
           "zaxis": {
            "backgroundcolor": "#E5ECF6",
            "gridcolor": "white",
            "gridwidth": 2,
            "linecolor": "white",
            "showbackground": true,
            "ticks": "",
            "zerolinecolor": "white"
           }
          },
          "shapedefaults": {
           "line": {
            "color": "#2a3f5f"
           }
          },
          "ternary": {
           "aaxis": {
            "gridcolor": "white",
            "linecolor": "white",
            "ticks": ""
           },
           "baxis": {
            "gridcolor": "white",
            "linecolor": "white",
            "ticks": ""
           },
           "bgcolor": "#E5ECF6",
           "caxis": {
            "gridcolor": "white",
            "linecolor": "white",
            "ticks": ""
           }
          },
          "title": {
           "x": 0.05
          },
          "xaxis": {
           "automargin": true,
           "gridcolor": "white",
           "linecolor": "white",
           "ticks": "",
           "title": {
            "standoff": 15
           },
           "zerolinecolor": "white",
           "zerolinewidth": 2
          },
          "yaxis": {
           "automargin": true,
           "gridcolor": "white",
           "linecolor": "white",
           "ticks": "",
           "title": {
            "standoff": 15
           },
           "zerolinecolor": "white",
           "zerolinewidth": 2
          }
         }
        },
        "title": {
         "text": "Quiz"
        },
        "width": 450
       }
      }
     },
     "metadata": {},
     "output_type": "display_data"
    }
   ],
   "source": [
    "import plotly.graph_objects as go\n",
    "\n",
    "import numpy as np\n",
    "\n",
    "x0 = enfermagem[enfermagem.titulo_objeto == 'Quiz 1'].pontuacao\n",
    "\n",
    "fig = go.Figure()\n",
    "fig.add_trace(go.Histogram(x=x0, histnorm=\"density\", cumulative_enabled=True, name=\"Quiz 1\"))\n",
    "\n",
    "# Overlay both histograms\n",
    "fig.update_layout(barmode='overlay')\n",
    "# Reduce opacity to see both histograms\n",
    "fig.update_traces(opacity=0.75)\n",
    "\n",
    "fig.update_layout(title_text=\"Quiz\", showlegend=True, height=500, width=450,)\n",
    "fig.show()"
   ]
  },
  {
   "cell_type": "code",
   "execution_count": 81,
   "metadata": {},
   "outputs": [
    {
     "data": {
      "application/vnd.plotly.v1+json": {
       "config": {
        "plotlyServerURL": "https://plot.ly"
       },
       "data": [
        {
         "histnorm": "density",
         "name": "Quiz 1 D",
         "opacity": 0.75,
         "type": "histogram",
         "x": [
          100,
          75,
          100,
          66,
          100,
          25,
          50,
          100,
          75,
          75,
          0,
          100,
          100,
          100,
          100,
          66,
          100,
          100,
          75,
          0,
          100,
          66,
          75,
          75,
          50,
          100,
          50,
          100,
          66,
          75,
          25,
          66,
          66,
          66,
          100,
          100,
          100,
          75,
          50,
          100,
          100,
          66,
          75,
          100,
          25,
          100,
          100,
          75,
          100,
          66,
          75,
          50,
          66,
          50,
          100,
          75,
          100,
          100,
          100,
          50,
          100,
          75,
          75,
          100,
          75,
          25,
          66,
          100,
          50,
          100,
          25,
          50,
          50,
          66,
          75,
          100,
          100,
          100,
          75,
          66,
          100,
          100,
          100,
          66,
          100,
          75,
          100,
          66,
          75,
          75,
          100,
          100,
          100,
          75,
          50,
          66,
          50,
          50,
          100,
          100,
          66,
          100,
          66,
          0,
          0,
          100,
          100,
          100,
          66,
          25,
          66,
          100,
          100,
          66,
          25,
          75,
          75,
          100,
          75,
          75,
          75,
          100,
          50,
          100,
          25,
          75,
          50,
          100,
          100,
          75,
          50,
          100,
          66,
          100,
          100,
          100,
          100,
          100,
          100,
          75,
          100,
          33,
          100,
          100,
          25,
          50,
          75,
          100,
          75,
          75,
          100,
          100,
          100,
          25,
          100,
          0,
          0,
          50,
          75,
          100,
          75,
          66,
          66,
          25,
          100,
          75,
          25,
          75,
          33,
          75,
          100,
          66,
          100,
          100,
          66,
          75,
          100,
          75,
          100,
          100,
          0,
          100,
          75,
          100,
          75,
          0,
          33,
          100,
          75,
          75,
          50,
          100,
          100,
          25,
          66,
          100,
          75,
          100,
          66,
          25,
          66,
          50,
          100,
          100,
          50,
          75,
          75,
          50,
          66,
          75,
          100,
          75,
          50,
          66,
          75,
          25,
          66,
          25,
          50,
          100,
          100,
          50,
          100,
          100,
          100,
          100,
          100,
          100,
          75,
          75,
          66,
          25,
          75,
          100,
          66,
          0,
          0,
          66,
          50,
          75,
          100,
          100,
          50,
          75,
          66,
          50,
          100,
          0,
          66,
          100,
          25,
          25,
          100,
          75,
          100,
          66,
          25,
          75,
          33,
          25,
          100,
          66,
          100,
          100,
          100,
          50,
          66,
          50,
          25,
          100,
          100,
          25,
          0,
          50,
          100,
          25,
          100,
          100,
          66,
          100,
          33,
          0,
          50,
          100,
          66,
          0,
          100,
          100,
          75,
          100,
          100,
          100,
          100,
          100,
          66,
          100,
          50,
          66,
          50,
          25,
          100,
          50,
          25,
          66,
          50,
          100,
          50,
          100,
          0,
          33,
          50,
          100,
          100,
          100,
          100,
          100,
          75,
          33,
          50,
          66,
          50,
          75,
          25,
          66,
          50,
          75,
          100,
          66,
          100,
          66,
          25,
          75,
          75,
          100,
          66,
          50,
          75,
          100,
          50,
          75,
          50,
          66,
          100,
          75,
          100,
          100,
          100,
          100,
          100,
          75,
          100,
          100,
          75,
          66,
          50,
          100,
          100,
          25,
          100,
          75,
          100,
          50,
          66,
          75,
          100,
          66,
          100,
          25,
          50,
          75,
          100,
          66,
          50,
          75,
          100,
          100,
          66,
          25,
          75,
          100,
          50,
          100,
          75,
          0,
          100,
          100,
          50,
          66,
          25,
          50,
          50,
          66,
          75,
          100,
          100,
          0,
          75,
          66,
          50,
          50,
          100,
          75,
          100,
          100,
          25,
          100,
          100,
          25,
          66,
          100,
          100,
          66,
          100,
          100,
          75,
          100,
          100,
          100,
          100,
          50,
          66,
          100,
          50,
          100,
          75,
          100,
          25,
          100,
          100,
          100,
          66,
          100,
          75,
          100,
          75,
          50,
          100,
          0,
          100,
          25,
          25,
          100,
          50,
          100,
          25,
          100,
          75,
          100,
          66,
          75,
          75,
          33,
          50,
          50,
          100,
          75,
          33,
          75,
          50,
          100,
          75,
          75,
          66,
          75,
          50,
          33,
          75,
          100,
          100,
          100,
          50,
          50,
          100,
          100,
          75,
          50,
          100,
          100,
          100,
          100,
          100,
          66,
          50,
          0,
          100,
          75,
          75,
          75,
          100,
          25,
          75,
          75,
          66,
          75,
          100,
          66,
          75,
          66,
          100,
          100,
          25,
          25,
          100,
          75,
          100,
          25,
          66,
          100,
          75,
          50,
          50,
          50,
          100,
          50,
          75,
          75,
          100,
          75,
          0,
          66,
          50,
          75,
          100,
          100,
          75,
          100,
          66,
          50,
          100,
          100,
          100,
          66,
          0,
          100,
          75,
          100,
          50,
          33,
          25,
          66,
          25,
          50,
          100,
          50,
          100,
          33,
          50,
          25,
          0,
          75,
          75,
          100,
          100,
          100,
          75,
          66,
          100,
          100,
          25,
          100,
          25,
          66,
          100,
          66,
          75,
          100,
          75,
          66,
          100,
          25,
          100,
          50,
          75,
          0,
          75,
          33,
          75,
          50,
          25,
          75,
          66,
          25,
          100,
          75,
          100,
          100,
          75,
          100,
          100,
          50,
          66,
          50,
          0,
          0,
          100,
          100,
          25,
          66,
          75,
          75,
          33,
          100,
          100,
          50,
          75,
          50,
          100,
          50,
          25,
          75,
          75,
          75,
          100,
          33,
          66,
          75,
          66,
          75,
          75,
          25,
          75,
          75,
          100,
          0,
          0,
          100,
          100,
          75,
          50,
          100,
          0,
          100,
          75,
          75,
          25,
          66,
          75,
          100,
          100,
          100,
          100,
          100,
          100,
          75,
          50,
          100,
          50,
          75,
          75,
          75,
          66,
          100,
          66,
          66,
          75,
          100,
          100,
          33,
          100,
          50,
          100
         ]
        }
       ],
       "layout": {
        "barmode": "overlay",
        "height": 500,
        "showlegend": true,
        "template": {
         "data": {
          "bar": [
           {
            "error_x": {
             "color": "#2a3f5f"
            },
            "error_y": {
             "color": "#2a3f5f"
            },
            "marker": {
             "line": {
              "color": "#E5ECF6",
              "width": 0.5
             },
             "pattern": {
              "fillmode": "overlay",
              "size": 10,
              "solidity": 0.2
             }
            },
            "type": "bar"
           }
          ],
          "barpolar": [
           {
            "marker": {
             "line": {
              "color": "#E5ECF6",
              "width": 0.5
             },
             "pattern": {
              "fillmode": "overlay",
              "size": 10,
              "solidity": 0.2
             }
            },
            "type": "barpolar"
           }
          ],
          "carpet": [
           {
            "aaxis": {
             "endlinecolor": "#2a3f5f",
             "gridcolor": "white",
             "linecolor": "white",
             "minorgridcolor": "white",
             "startlinecolor": "#2a3f5f"
            },
            "baxis": {
             "endlinecolor": "#2a3f5f",
             "gridcolor": "white",
             "linecolor": "white",
             "minorgridcolor": "white",
             "startlinecolor": "#2a3f5f"
            },
            "type": "carpet"
           }
          ],
          "choropleth": [
           {
            "colorbar": {
             "outlinewidth": 0,
             "ticks": ""
            },
            "type": "choropleth"
           }
          ],
          "contour": [
           {
            "colorbar": {
             "outlinewidth": 0,
             "ticks": ""
            },
            "colorscale": [
             [
              0,
              "#0d0887"
             ],
             [
              0.1111111111111111,
              "#46039f"
             ],
             [
              0.2222222222222222,
              "#7201a8"
             ],
             [
              0.3333333333333333,
              "#9c179e"
             ],
             [
              0.4444444444444444,
              "#bd3786"
             ],
             [
              0.5555555555555556,
              "#d8576b"
             ],
             [
              0.6666666666666666,
              "#ed7953"
             ],
             [
              0.7777777777777778,
              "#fb9f3a"
             ],
             [
              0.8888888888888888,
              "#fdca26"
             ],
             [
              1,
              "#f0f921"
             ]
            ],
            "type": "contour"
           }
          ],
          "contourcarpet": [
           {
            "colorbar": {
             "outlinewidth": 0,
             "ticks": ""
            },
            "type": "contourcarpet"
           }
          ],
          "heatmap": [
           {
            "colorbar": {
             "outlinewidth": 0,
             "ticks": ""
            },
            "colorscale": [
             [
              0,
              "#0d0887"
             ],
             [
              0.1111111111111111,
              "#46039f"
             ],
             [
              0.2222222222222222,
              "#7201a8"
             ],
             [
              0.3333333333333333,
              "#9c179e"
             ],
             [
              0.4444444444444444,
              "#bd3786"
             ],
             [
              0.5555555555555556,
              "#d8576b"
             ],
             [
              0.6666666666666666,
              "#ed7953"
             ],
             [
              0.7777777777777778,
              "#fb9f3a"
             ],
             [
              0.8888888888888888,
              "#fdca26"
             ],
             [
              1,
              "#f0f921"
             ]
            ],
            "type": "heatmap"
           }
          ],
          "heatmapgl": [
           {
            "colorbar": {
             "outlinewidth": 0,
             "ticks": ""
            },
            "colorscale": [
             [
              0,
              "#0d0887"
             ],
             [
              0.1111111111111111,
              "#46039f"
             ],
             [
              0.2222222222222222,
              "#7201a8"
             ],
             [
              0.3333333333333333,
              "#9c179e"
             ],
             [
              0.4444444444444444,
              "#bd3786"
             ],
             [
              0.5555555555555556,
              "#d8576b"
             ],
             [
              0.6666666666666666,
              "#ed7953"
             ],
             [
              0.7777777777777778,
              "#fb9f3a"
             ],
             [
              0.8888888888888888,
              "#fdca26"
             ],
             [
              1,
              "#f0f921"
             ]
            ],
            "type": "heatmapgl"
           }
          ],
          "histogram": [
           {
            "marker": {
             "pattern": {
              "fillmode": "overlay",
              "size": 10,
              "solidity": 0.2
             }
            },
            "type": "histogram"
           }
          ],
          "histogram2d": [
           {
            "colorbar": {
             "outlinewidth": 0,
             "ticks": ""
            },
            "colorscale": [
             [
              0,
              "#0d0887"
             ],
             [
              0.1111111111111111,
              "#46039f"
             ],
             [
              0.2222222222222222,
              "#7201a8"
             ],
             [
              0.3333333333333333,
              "#9c179e"
             ],
             [
              0.4444444444444444,
              "#bd3786"
             ],
             [
              0.5555555555555556,
              "#d8576b"
             ],
             [
              0.6666666666666666,
              "#ed7953"
             ],
             [
              0.7777777777777778,
              "#fb9f3a"
             ],
             [
              0.8888888888888888,
              "#fdca26"
             ],
             [
              1,
              "#f0f921"
             ]
            ],
            "type": "histogram2d"
           }
          ],
          "histogram2dcontour": [
           {
            "colorbar": {
             "outlinewidth": 0,
             "ticks": ""
            },
            "colorscale": [
             [
              0,
              "#0d0887"
             ],
             [
              0.1111111111111111,
              "#46039f"
             ],
             [
              0.2222222222222222,
              "#7201a8"
             ],
             [
              0.3333333333333333,
              "#9c179e"
             ],
             [
              0.4444444444444444,
              "#bd3786"
             ],
             [
              0.5555555555555556,
              "#d8576b"
             ],
             [
              0.6666666666666666,
              "#ed7953"
             ],
             [
              0.7777777777777778,
              "#fb9f3a"
             ],
             [
              0.8888888888888888,
              "#fdca26"
             ],
             [
              1,
              "#f0f921"
             ]
            ],
            "type": "histogram2dcontour"
           }
          ],
          "mesh3d": [
           {
            "colorbar": {
             "outlinewidth": 0,
             "ticks": ""
            },
            "type": "mesh3d"
           }
          ],
          "parcoords": [
           {
            "line": {
             "colorbar": {
              "outlinewidth": 0,
              "ticks": ""
             }
            },
            "type": "parcoords"
           }
          ],
          "pie": [
           {
            "automargin": true,
            "type": "pie"
           }
          ],
          "scatter": [
           {
            "fillpattern": {
             "fillmode": "overlay",
             "size": 10,
             "solidity": 0.2
            },
            "type": "scatter"
           }
          ],
          "scatter3d": [
           {
            "line": {
             "colorbar": {
              "outlinewidth": 0,
              "ticks": ""
             }
            },
            "marker": {
             "colorbar": {
              "outlinewidth": 0,
              "ticks": ""
             }
            },
            "type": "scatter3d"
           }
          ],
          "scattercarpet": [
           {
            "marker": {
             "colorbar": {
              "outlinewidth": 0,
              "ticks": ""
             }
            },
            "type": "scattercarpet"
           }
          ],
          "scattergeo": [
           {
            "marker": {
             "colorbar": {
              "outlinewidth": 0,
              "ticks": ""
             }
            },
            "type": "scattergeo"
           }
          ],
          "scattergl": [
           {
            "marker": {
             "colorbar": {
              "outlinewidth": 0,
              "ticks": ""
             }
            },
            "type": "scattergl"
           }
          ],
          "scattermapbox": [
           {
            "marker": {
             "colorbar": {
              "outlinewidth": 0,
              "ticks": ""
             }
            },
            "type": "scattermapbox"
           }
          ],
          "scatterpolar": [
           {
            "marker": {
             "colorbar": {
              "outlinewidth": 0,
              "ticks": ""
             }
            },
            "type": "scatterpolar"
           }
          ],
          "scatterpolargl": [
           {
            "marker": {
             "colorbar": {
              "outlinewidth": 0,
              "ticks": ""
             }
            },
            "type": "scatterpolargl"
           }
          ],
          "scatterternary": [
           {
            "marker": {
             "colorbar": {
              "outlinewidth": 0,
              "ticks": ""
             }
            },
            "type": "scatterternary"
           }
          ],
          "surface": [
           {
            "colorbar": {
             "outlinewidth": 0,
             "ticks": ""
            },
            "colorscale": [
             [
              0,
              "#0d0887"
             ],
             [
              0.1111111111111111,
              "#46039f"
             ],
             [
              0.2222222222222222,
              "#7201a8"
             ],
             [
              0.3333333333333333,
              "#9c179e"
             ],
             [
              0.4444444444444444,
              "#bd3786"
             ],
             [
              0.5555555555555556,
              "#d8576b"
             ],
             [
              0.6666666666666666,
              "#ed7953"
             ],
             [
              0.7777777777777778,
              "#fb9f3a"
             ],
             [
              0.8888888888888888,
              "#fdca26"
             ],
             [
              1,
              "#f0f921"
             ]
            ],
            "type": "surface"
           }
          ],
          "table": [
           {
            "cells": {
             "fill": {
              "color": "#EBF0F8"
             },
             "line": {
              "color": "white"
             }
            },
            "header": {
             "fill": {
              "color": "#C8D4E3"
             },
             "line": {
              "color": "white"
             }
            },
            "type": "table"
           }
          ]
         },
         "layout": {
          "annotationdefaults": {
           "arrowcolor": "#2a3f5f",
           "arrowhead": 0,
           "arrowwidth": 1
          },
          "autotypenumbers": "strict",
          "coloraxis": {
           "colorbar": {
            "outlinewidth": 0,
            "ticks": ""
           }
          },
          "colorscale": {
           "diverging": [
            [
             0,
             "#8e0152"
            ],
            [
             0.1,
             "#c51b7d"
            ],
            [
             0.2,
             "#de77ae"
            ],
            [
             0.3,
             "#f1b6da"
            ],
            [
             0.4,
             "#fde0ef"
            ],
            [
             0.5,
             "#f7f7f7"
            ],
            [
             0.6,
             "#e6f5d0"
            ],
            [
             0.7,
             "#b8e186"
            ],
            [
             0.8,
             "#7fbc41"
            ],
            [
             0.9,
             "#4d9221"
            ],
            [
             1,
             "#276419"
            ]
           ],
           "sequential": [
            [
             0,
             "#0d0887"
            ],
            [
             0.1111111111111111,
             "#46039f"
            ],
            [
             0.2222222222222222,
             "#7201a8"
            ],
            [
             0.3333333333333333,
             "#9c179e"
            ],
            [
             0.4444444444444444,
             "#bd3786"
            ],
            [
             0.5555555555555556,
             "#d8576b"
            ],
            [
             0.6666666666666666,
             "#ed7953"
            ],
            [
             0.7777777777777778,
             "#fb9f3a"
            ],
            [
             0.8888888888888888,
             "#fdca26"
            ],
            [
             1,
             "#f0f921"
            ]
           ],
           "sequentialminus": [
            [
             0,
             "#0d0887"
            ],
            [
             0.1111111111111111,
             "#46039f"
            ],
            [
             0.2222222222222222,
             "#7201a8"
            ],
            [
             0.3333333333333333,
             "#9c179e"
            ],
            [
             0.4444444444444444,
             "#bd3786"
            ],
            [
             0.5555555555555556,
             "#d8576b"
            ],
            [
             0.6666666666666666,
             "#ed7953"
            ],
            [
             0.7777777777777778,
             "#fb9f3a"
            ],
            [
             0.8888888888888888,
             "#fdca26"
            ],
            [
             1,
             "#f0f921"
            ]
           ]
          },
          "colorway": [
           "#636efa",
           "#EF553B",
           "#00cc96",
           "#ab63fa",
           "#FFA15A",
           "#19d3f3",
           "#FF6692",
           "#B6E880",
           "#FF97FF",
           "#FECB52"
          ],
          "font": {
           "color": "#2a3f5f"
          },
          "geo": {
           "bgcolor": "white",
           "lakecolor": "white",
           "landcolor": "#E5ECF6",
           "showlakes": true,
           "showland": true,
           "subunitcolor": "white"
          },
          "hoverlabel": {
           "align": "left"
          },
          "hovermode": "closest",
          "mapbox": {
           "style": "light"
          },
          "paper_bgcolor": "white",
          "plot_bgcolor": "#E5ECF6",
          "polar": {
           "angularaxis": {
            "gridcolor": "white",
            "linecolor": "white",
            "ticks": ""
           },
           "bgcolor": "#E5ECF6",
           "radialaxis": {
            "gridcolor": "white",
            "linecolor": "white",
            "ticks": ""
           }
          },
          "scene": {
           "xaxis": {
            "backgroundcolor": "#E5ECF6",
            "gridcolor": "white",
            "gridwidth": 2,
            "linecolor": "white",
            "showbackground": true,
            "ticks": "",
            "zerolinecolor": "white"
           },
           "yaxis": {
            "backgroundcolor": "#E5ECF6",
            "gridcolor": "white",
            "gridwidth": 2,
            "linecolor": "white",
            "showbackground": true,
            "ticks": "",
            "zerolinecolor": "white"
           },
           "zaxis": {
            "backgroundcolor": "#E5ECF6",
            "gridcolor": "white",
            "gridwidth": 2,
            "linecolor": "white",
            "showbackground": true,
            "ticks": "",
            "zerolinecolor": "white"
           }
          },
          "shapedefaults": {
           "line": {
            "color": "#2a3f5f"
           }
          },
          "ternary": {
           "aaxis": {
            "gridcolor": "white",
            "linecolor": "white",
            "ticks": ""
           },
           "baxis": {
            "gridcolor": "white",
            "linecolor": "white",
            "ticks": ""
           },
           "bgcolor": "#E5ECF6",
           "caxis": {
            "gridcolor": "white",
            "linecolor": "white",
            "ticks": ""
           }
          },
          "title": {
           "x": 0.05
          },
          "xaxis": {
           "automargin": true,
           "gridcolor": "white",
           "linecolor": "white",
           "ticks": "",
           "title": {
            "standoff": 15
           },
           "zerolinecolor": "white",
           "zerolinewidth": 2
          },
          "yaxis": {
           "automargin": true,
           "gridcolor": "white",
           "linecolor": "white",
           "ticks": "",
           "title": {
            "standoff": 15
           },
           "zerolinecolor": "white",
           "zerolinewidth": 2
          }
         }
        },
        "title": {
         "text": "Quiz"
        },
        "width": 450
       }
      }
     },
     "metadata": {},
     "output_type": "display_data"
    }
   ],
   "source": [
    "import plotly.graph_objects as go\n",
    "\n",
    "import numpy as np\n",
    "\n",
    "x1 = enfermagem[enfermagem.titulo_objeto == 'Quiz 1 D'].pontuacao\n",
    "\n",
    "fig = go.Figure()\n",
    "fig.add_trace(go.Histogram(x=x1, histnorm=\"density\", name=\"Quiz 1 D\"))\n",
    "\n",
    "# Overlay both histograms\n",
    "fig.update_layout(barmode='overlay')\n",
    "# Reduce opacity to see both histograms\n",
    "fig.update_traces(opacity=0.75)\n",
    "\n",
    "fig.update_layout(title_text=\"Quiz\", showlegend=True, height=500, width=450,)\n",
    "fig.show()"
   ]
  }
 ],
 "metadata": {
  "kernelspec": {
   "display_name": "Python 3.7.6 ('base')",
   "language": "python",
   "name": "python3"
  },
  "language_info": {
   "codemirror_mode": {
    "name": "ipython",
    "version": 3
   },
   "file_extension": ".py",
   "mimetype": "text/x-python",
   "name": "python",
   "nbconvert_exporter": "python",
   "pygments_lexer": "ipython3",
   "version": "3.7.6"
  },
  "orig_nbformat": 4,
  "vscode": {
   "interpreter": {
    "hash": "1a0ca82fe72f7b6dcc59f88ce1601f3112cb58c024b4d57901a90c4fbc3fa1c5"
   }
  }
 },
 "nbformat": 4,
 "nbformat_minor": 2
}
