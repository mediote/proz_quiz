{
 "cells": [
  {
   "cell_type": "code",
   "execution_count": null,
   "metadata": {},
   "outputs": [],
   "source": [
    "import pandas as pd\n",
    "\n",
    "enfermagem = pd.read_csv('nivelamento_enfermagem.csv')\n",
    "enfermagem = enfermagem.sort_values(by=['titulo_objeto'])\n",
    "\n",
    "\n",
    "demais_cursos = pd.read_csv('demais_cursos.csv')\n",
    "demais_cursos = demais_cursos.sort_values(by=['titulo_objeto'])"
   ]
  },
  {
   "cell_type": "code",
   "execution_count": null,
   "metadata": {},
   "outputs": [],
   "source": [
    "#normalized_df=(df-df.mean())/df.std()\n",
    "\n",
    "#enfermagem['norm_pontuacao'] = (enfermagem.pontuacao-enfermagem.pontuacao.mean()) / enfermagem.pontuacao.std()\n",
    "#enfermagem['norm_pontuacao'] "
   ]
  },
  {
   "cell_type": "markdown",
   "metadata": {},
   "source": [
    "### Carregando dados Google Drive (Somente se estiver usando o Google Colab)"
   ]
  },
  {
   "cell_type": "code",
   "execution_count": null,
   "metadata": {},
   "outputs": [],
   "source": [
    "import pandas as pd\n",
    "from google.colab import drive\n",
    "drive.mount('/content/drive')\n",
    "\n",
    "enfermagem = pd.read_csv('/content/drive/MyDrive/datasets/proz/nivelamento_enfermagem.csv')\n",
    "enfermagem = enfermagem.sort_values(by=['titulo_objeto'])\n",
    "\n",
    "\n",
    "demais_cursos = pd.read_csv('/content/drive/MyDrive/datasets/proz/demais_cursos.csv')\n",
    "demais_cursos = demais_cursos.sort_values(by=['titulo_objeto'])\n"
   ]
  },
  {
   "cell_type": "markdown",
   "metadata": {},
   "source": [
    "### Função para geração dos Histogramas"
   ]
  },
  {
   "cell_type": "code",
   "execution_count": null,
   "metadata": {},
   "outputs": [],
   "source": [
    "from plotly.subplots import make_subplots\n",
    "import plotly.graph_objects as go\n",
    "\n",
    "\n",
    "def plot_quiz_hist(quiz_data, n_rows, n_cols):\n",
    "\n",
    "    quiz_range = len(\n",
    "        quiz_data[quiz_data.titulo_objeto.str.contains(\"D\")].titulo_objeto.unique())\n",
    "\n",
    "\n",
    "    fig = make_subplots(\n",
    "        rows=n_rows,\n",
    "        cols=n_cols,\n",
    "        subplot_titles=([(lambda x: f'Quiz {x}'.format(x))(x)\n",
    "                        for x in range(1, quiz_range + 1)])\n",
    "    )\n",
    "\n",
    "    subplots_rows = 1\n",
    "    subplots_cols = 1\n",
    "\n",
    "\n",
    "    for i in range(1, quiz_range + 1):\n",
    "        x0 = quiz_data[quiz_data.titulo_objeto ==\n",
    "                         f'Quiz {i}'.format(i)].pontuacao\n",
    "        x1 = quiz_data[quiz_data.titulo_objeto ==\n",
    "                         f'Quiz {i} D'.format(i)].pontuacao\n",
    "\n",
    "        q_number = i\n",
    "\n",
    "        fig.add_trace(\n",
    "            go.Histogram(\n",
    "                x=x0,\n",
    "                name=f'Quiz {q_number}'.format(q_number),\n",
    "                nbinsx=10,\n",
    "                marker_color='#FF7F00',\n",
    "                histnorm=\"density\"\n",
    "            ),\n",
    "            row=subplots_rows, col=subplots_cols\n",
    "        )\n",
    "\n",
    "        fig.add_trace(\n",
    "            go.Histogram(\n",
    "                x=x1,\n",
    "                name=f'Quiz {q_number} D'.format(q_number),\n",
    "                nbinsx=10,\n",
    "                marker_color='#593493',\n",
    "                histnorm=\"density\"\n",
    "            ),\n",
    "            row=subplots_rows, col=subplots_cols\n",
    "        )\n",
    "\n",
    "        if subplots_cols == n_cols:\n",
    "            subplots_cols = 1\n",
    "            subplots_rows += 1\n",
    "        else:\n",
    "            subplots_cols += 1\n",
    "\n",
    "    fig.update_layout(barmode='stack', height=1000, width=1250,\n",
    "                      title_text=\"Quiz\", showlegend=False)\n",
    "    fig.update_xaxes(range=[0, 110], tick0=0, dtick=20) \n",
    "    fig.show()"
   ]
  },
  {
   "cell_type": "markdown",
   "metadata": {},
   "source": [
    "### Função para geração dos BoxPlots"
   ]
  },
  {
   "cell_type": "code",
   "execution_count": null,
   "metadata": {},
   "outputs": [],
   "source": [
    "import plotly.graph_objects as go\n",
    "from plotly.subplots import make_subplots\n",
    "\n",
    "\n",
    "def plot_quiz_box(quiz_data, n_rows, n_cols):\n",
    "\n",
    "    quiz_range = len(\n",
    "        quiz_data[quiz_data.titulo_objeto.str.contains(\"D\")].titulo_objeto.unique())\n",
    "\n",
    "\n",
    "    fig = make_subplots(\n",
    "        rows=n_rows,\n",
    "        cols=n_cols,\n",
    "        subplot_titles=([(lambda x: f'Quiz {x}'.format(x))(x)\n",
    "                        for x in range(1, quiz_range + 1)])\n",
    "    )\n",
    "\n",
    "    subplots_rows = 1\n",
    "    subplots_cols = 1\n",
    "\n",
    "    for i in range(1, quiz_range + 1):\n",
    "\n",
    "        x0 = quiz_data[quiz_data.titulo_objeto ==\n",
    "                             f'Quiz {i}'.format(i)].pontuacao\n",
    "        x1 = quiz_data[quiz_data.titulo_objeto ==\n",
    "                             f'Quiz {i} D'.format(i)].pontuacao\n",
    "\n",
    "        q_number = i\n",
    "\n",
    "        fig.add_trace(\n",
    "                  go.Box(\n",
    "                      y=x0,\n",
    "                      name=f'Quiz {q_number}'.format(q_number),\n",
    "                      marker_color='#FF7F00'\n",
    "                  ),\n",
    "                  row=subplots_rows, col=subplots_cols\n",
    "              )\n",
    "\n",
    "        fig.add_trace(\n",
    "                  go.Box(\n",
    "                      y=x1,\n",
    "                      name=f'Quiz {q_number} D'.format(q_number),\n",
    "                      marker_color='#593493'\n",
    "                  ),\n",
    "                  row=subplots_rows, col=subplots_cols\n",
    "              )\n",
    "\n",
    "        if subplots_cols == n_cols:\n",
    "            subplots_cols = 1\n",
    "            subplots_rows += 1\n",
    "        else:\n",
    "            subplots_cols += 1\n",
    "\n",
    "\n",
    "    fig.update_layout(title_text=\"Quiz\", showlegend=False, \n",
    "                      height=1000, width=1250,)\n",
    "    fig.update_traces(boxmean=True)\n",
    "    fig.update_traces(orientation='v')\n",
    "    fig.show()"
   ]
  },
  {
   "cell_type": "markdown",
   "metadata": {},
   "source": [
    "### Visualizando Histogramas"
   ]
  },
  {
   "cell_type": "code",
   "execution_count": null,
   "metadata": {},
   "outputs": [],
   "source": [
    "plot_quiz_hist(quiz_data=enfermagem, n_rows=5, n_cols=3)"
   ]
  },
  {
   "cell_type": "code",
   "execution_count": null,
   "metadata": {},
   "outputs": [],
   "source": [
    "plot_quiz_hist(quiz_data=demais_cursos, n_rows=5, n_cols=3)"
   ]
  },
  {
   "cell_type": "markdown",
   "metadata": {},
   "source": [
    "### Visualizando BoxPlots"
   ]
  },
  {
   "cell_type": "code",
   "execution_count": null,
   "metadata": {},
   "outputs": [],
   "source": [
    "plot_quiz_box(quiz_data=enfermagem, n_rows=5, n_cols=3)"
   ]
  },
  {
   "cell_type": "code",
   "execution_count": null,
   "metadata": {},
   "outputs": [],
   "source": [
    "plot_quiz_box(quiz_data=demais_cursos, n_rows=5, n_cols=3)"
   ]
  },
  {
   "cell_type": "code",
   "execution_count": null,
   "metadata": {},
   "outputs": [],
   "source": [
    "import plotly.graph_objects as go\n",
    "\n",
    "import numpy as np\n",
    "\n",
    "x0 = enfermagem[enfermagem.titulo_objeto == 'Quiz 1'].pontuacao\n",
    "\n",
    "fig = go.Figure()\n",
    "fig.add_trace(go.Histogram(x=x0, histnorm=\"density\", cumulative_enabled=False, name=\"Quiz 1\"))\n",
    "\n",
    "# Overlay both histograms\n",
    "fig.update_layout(barmode='overlay')\n",
    "# Reduce opacity to see both histograms\n",
    "fig.update_traces(opacity=0.75)\n",
    "\n",
    "fig.update_layout(title_text=\"Quiz\", showlegend=True, height=500, width=450,)\n",
    "fig.show()"
   ]
  },
  {
   "cell_type": "code",
   "execution_count": null,
   "metadata": {},
   "outputs": [],
   "source": [
    "import plotly.graph_objects as go\n",
    "import scipy\n",
    "\n",
    "data = enfermagem[enfermagem.titulo_objeto == 'Quiz 1 D'].titulo_objeto.count()\n",
    "pontuacao = enfermagem[enfermagem.titulo_objeto == 'Quiz 1 D'].pontuacao\n",
    "data_norm_to_0_1 = [number/ scipy.linalg.norm(data)for number in pontuacao]\n",
    "\n",
    "y = len()\n",
    "\n",
    "x0 = enfermagem[enfermagem.titulo_objeto == 'Quiz 1'].pontuacao\n",
    "x1 = enfermagem[enfermagem.titulo_objeto == 'Quiz 1 D'].pontuacao\n",
    "\n",
    "fig = go.Figure()\n",
    "fig.add_trace(go.Histogram(x=x0,  histnorm=\"density\", cumulative_enabled=False, name=\"Quiz 1\"))\n",
    "fig.add_trace(go.Histogram(x=x1,  histnorm=\"density\", name=\"Quiz 1 D\"))\n",
    "\n",
    "# Overlay both histograms\n",
    "fig.update_layout(barmode='overlay')\n",
    "# Reduce opacity to see both histograms\n",
    "fig.update_traces(opacity=0.75)\n",
    "\n",
    "fig.update_layout(title_text=\"Quiz\", showlegend=True, height=500, width=450,)\n",
    "fig.show()"
   ]
  }
 ],
 "metadata": {
  "kernelspec": {
   "display_name": "Python 3.7.6 ('base')",
   "language": "python",
   "name": "python3"
  },
  "language_info": {
   "codemirror_mode": {
    "name": "ipython",
    "version": 3
   },
   "file_extension": ".py",
   "mimetype": "text/x-python",
   "name": "python",
   "nbconvert_exporter": "python",
   "pygments_lexer": "ipython3",
   "version": "3.7.6"
  },
  "orig_nbformat": 4,
  "vscode": {
   "interpreter": {
    "hash": "1a0ca82fe72f7b6dcc59f88ce1601f3112cb58c024b4d57901a90c4fbc3fa1c5"
   }
  }
 },
 "nbformat": 4,
 "nbformat_minor": 2
}
