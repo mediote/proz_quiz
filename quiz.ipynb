{
 "cells": [
  {
   "cell_type": "markdown",
   "metadata": {},
   "source": [
    "### Carregar dados disco local"
   ]
  },
  {
   "cell_type": "code",
   "execution_count": null,
   "metadata": {},
   "outputs": [],
   "source": [
    "import pandas as pd\n",
    "\n",
    "enfermagem = pd.read_csv('./datasets/enfermagem/all.csv')\n",
    "enfermagem = enfermagem[enfermagem.status_aprendiz == 'Concluído']\n",
    "enfermagem = enfermagem[enfermagem.titulo_objeto.str.startswith(\"Quiz\")]\n",
    "\n",
    "demais_cursos = pd.read_csv('./datasets/demais/demais_cursos.csv')\n",
    "demais_cursos = demais_cursos[demais_cursos.status_aprendiz == 'Concluído']\n",
    "demais_cursos = demais_cursos[demais_cursos.titulo_objeto.str.startswith(\"Quiz\")]"
   ]
  },
  {
   "cell_type": "markdown",
   "metadata": {},
   "source": [
    "### Carregando dados Google Drive (Somente se estiver usando o Google Colab)"
   ]
  },
  {
   "cell_type": "code",
   "execution_count": null,
   "metadata": {},
   "outputs": [],
   "source": [
    "import pandas as pd\n",
    "from google.colab import drive\n",
    "drive.mount('/content/drive')\n",
    "\n",
    "enfermagem = pd.read_csv('/content/drive/MyDrive/datasets/proz/nivelamento_enfermagem.csv')\n",
    "enfermagem = enfermagem.sort_values(by=['titulo_objeto'])\n",
    "\n",
    "\n",
    "demais_cursos = pd.read_csv('/content/drive/MyDrive/datasets/proz/demais_cursos.csv')\n",
    "demais_cursos = demais_cursos.sort_values(by=['titulo_objeto'])"
   ]
  },
  {
   "cell_type": "markdown",
   "metadata": {},
   "source": [
    "### Função para geração dos Histogramas"
   ]
  },
  {
   "cell_type": "code",
   "execution_count": null,
   "metadata": {},
   "outputs": [],
   "source": [
    "from plotly.subplots import make_subplots\n",
    "import plotly.graph_objects as go\n",
    "\n",
    "\n",
    "def plot_quiz_hist(quiz_data, n_rows, n_cols):\n",
    "   \n",
    "    quiz_range = len(quiz_data[quiz_data.titulo_objeto.str.endswith(\"D\")].titulo_objeto.unique())\n",
    "\n",
    "    fig = make_subplots(\n",
    "        rows=n_rows,\n",
    "        cols=n_cols,\n",
    "        subplot_titles=([(lambda x: f'Quiz {x} / {x} D'.format(x))(x)\n",
    "                        for x in range(1, quiz_range + 1)])\n",
    "    )\n",
    "\n",
    "    subplots_rows = 1\n",
    "    subplots_cols = 1\n",
    "\n",
    "    for i in range(1, quiz_range + 1):\n",
    "        x0 = quiz_data[quiz_data.titulo_objeto ==\n",
    "                       f'Quiz {i}'.format(i)].pontuacao\n",
    "\n",
    "        x1 = quiz_data[quiz_data.titulo_objeto ==\n",
    "                       f'Quiz {i} D'.format(i)].pontuacao\n",
    "\n",
    "        y0 = quiz_data[quiz_data.titulo_objeto ==\n",
    "                       f'Quiz {i}'.format(i)]\n",
    "\n",
    "        y1 = quiz_data[quiz_data.titulo_objeto ==\n",
    "                       f'Quiz {i} D'.format(i)]\n",
    "        q_number = i\n",
    "\n",
    "        fig.add_trace(\n",
    "            go.Histogram(\n",
    "                x=x0,\n",
    "                y=y0,\n",
    "                name=f'Quiz {q_number}'.format(q_number),\n",
    "                nbinsx=10,\n",
    "                marker_color='#FF7F00'\n",
    "            ),\n",
    "            row=subplots_rows, col=subplots_cols\n",
    "        )\n",
    "\n",
    "        fig.add_trace(\n",
    "            go.Histogram(\n",
    "                x=x1,\n",
    "                y=y1,\n",
    "                name=f'Quiz {q_number} D'.format(q_number),\n",
    "                nbinsx=10,\n",
    "                marker_color='#593493',\n",
    "                opacity=0.55\n",
    "            ),\n",
    "            row=subplots_rows, col=subplots_cols\n",
    "        )\n",
    "\n",
    "        if subplots_cols == n_cols:\n",
    "            subplots_cols = 1\n",
    "            subplots_rows += 1\n",
    "        else:\n",
    "            subplots_cols += 1\n",
    "\n",
    "    fig.update_layout(barmode='overlay', height=1000, width=1250,\n",
    "                      title_text=\"Quiz\", showlegend=False)\n",
    "    fig.update_traces(histnorm=\"density\")\n",
    "    fig.update_xaxes(range=[0, 100], tick0=0, dtick=20)\n",
    "    fig.update_yaxes(range=[0, 1], tick0=0, dtick=0.2)\n",
    "    fig.show()"
   ]
  },
  {
   "cell_type": "markdown",
   "metadata": {},
   "source": [
    "### Função para geração dos Bar Plots"
   ]
  },
  {
   "cell_type": "code",
   "execution_count": null,
   "metadata": {},
   "outputs": [],
   "source": [
    "\n",
    "def create_quiz_metrics_dataset(quiz_data):\n",
    "\n",
    "        quiz_range = len(quiz_data[quiz_data.titulo_objeto.str.endswith(\"D\")].titulo_objeto.unique())\n",
    "\n",
    "        quiz_list = list()\n",
    "        for quiz_number in range(1, quiz_range + 1):\n",
    "                quiz = {\n",
    "                        \"quiz\": f'Quiz {quiz_number}'.format(quiz_number),\n",
    "                        \"mean\": quiz_data[quiz_data.titulo_objeto == f'Quiz {quiz_number}'.format(quiz_number)].pontuacao.describe().mean().round(2) ,\n",
    "                        \"median\": quiz_data[quiz_data.titulo_objeto == f'Quiz {quiz_number}'.format(quiz_number)].pontuacao.describe().median().round(2) \n",
    "                }\n",
    "\n",
    "                quiz_list.append(quiz)\n",
    "\n",
    "                quiz_d = {\n",
    "                        \"quiz\": f'Quiz {quiz_number} D'.format(quiz_number),\n",
    "                        \"mean\": quiz_data[quiz_data.titulo_objeto == f'Quiz {quiz_number} D'.format(quiz_number)].pontuacao.describe().mean().round(2) ,\n",
    "                        \"median\": quiz_data[quiz_data.titulo_objeto == f'Quiz {quiz_number} D'.format(quiz_number)].pontuacao.describe().median().round(2) \n",
    "                }\n",
    "                \n",
    "                quiz_list.append(quiz_d)\n",
    "\n",
    "        quiz_metrics = pd.DataFrame(quiz_list)\n",
    "        return quiz_metrics"
   ]
  },
  {
   "cell_type": "code",
   "execution_count": null,
   "metadata": {},
   "outputs": [],
   "source": [
    "from plotly.subplots import make_subplots\n",
    "import plotly.graph_objects as go\n",
    "\n",
    "def plot_quiz_bar(quiz_data, metric, n_rows, n_cols):\n",
    "\n",
    "    quiz_range = len(quiz_data[quiz_data.quiz.str.endswith(\"D\")].quiz.unique())\n",
    "\n",
    "    fig = make_subplots(\n",
    "        rows=n_rows,\n",
    "        cols=n_cols,\n",
    "        subplot_titles=([(lambda x: f'Quiz {x} / {x} D'.format(x))(x)\n",
    "                         for x in range(1, quiz_range + 1)])\n",
    "    )\n",
    "\n",
    "    subplots_rows = 1\n",
    "    subplots_cols = 1\n",
    "\n",
    "    for i in range(1, quiz_range + 1):\n",
    "\n",
    "        y0 = quiz_data[quiz_data.quiz ==\n",
    "                       f'Quiz {i}'.format(i)][metric]\n",
    "        y1 = quiz_data[quiz_data.quiz ==\n",
    "                       f'Quiz {i} D'.format(i)][metric]\n",
    "        q_number = i\n",
    "\n",
    "        fig.add_trace(\n",
    "            go.Bar(\n",
    "                x=['Quiz'],\n",
    "                y=y0,\n",
    "                name=f'Quiz {q_number} {metric}'.format(q_number, metric),\n",
    "                marker_color='#FF7F00'\n",
    "            ),\n",
    "            row=subplots_rows, col=subplots_cols\n",
    "        )\n",
    "\n",
    "        fig.add_trace(\n",
    "            go.Bar(\n",
    "                x=['Quiz D'],\n",
    "                y=y1,\n",
    "                name=f'quiz {q_number} D {metric}'.format(q_number, metric),\n",
    "                marker_color='#593493'\n",
    "            ),\n",
    "            row=subplots_rows, col=subplots_cols\n",
    "        )\n",
    "\n",
    "        if subplots_cols == n_cols:\n",
    "            subplots_cols = 1\n",
    "            subplots_rows += 1\n",
    "        else:\n",
    "            subplots_cols += 1\n",
    "\n",
    "    fig.update_layout(height=1000, width=1250,\n",
    "                      title_text=\"Quiz\", showlegend=False)\n",
    "    fig.update_yaxes(range=[0, 100], tick0=0, dtick=20)\n",
    "    fig.show()"
   ]
  },
  {
   "cell_type": "markdown",
   "metadata": {},
   "source": [
    "### Função para geração dos BoxPlots"
   ]
  },
  {
   "cell_type": "code",
   "execution_count": null,
   "metadata": {},
   "outputs": [],
   "source": [
    "import plotly.graph_objects as go\n",
    "from plotly.subplots import make_subplots\n",
    "\n",
    "\n",
    "def plot_quiz_box(quiz_data, n_rows, n_cols):\n",
    "\n",
    "    quiz_range = len(quiz_data[quiz_data.titulo_objeto.str.endswith(\"D\")].titulo_objeto.unique())\n",
    "\n",
    "    fig = make_subplots(\n",
    "        rows=n_rows,\n",
    "        cols=n_cols,\n",
    "        subplot_titles=([(lambda x: f'Quiz {x}'.format(x))(x)\n",
    "                        for x in range(1, quiz_range + 1)])\n",
    "    )\n",
    "\n",
    "    subplots_rows = 1\n",
    "    subplots_cols = 1\n",
    "\n",
    "    for i in range(1, quiz_range + 1):\n",
    "\n",
    "        y0 = quiz_data[quiz_data.titulo_objeto ==\n",
    "                             f'Quiz {i}'.format(i)].pontuacao\n",
    "        y1 = quiz_data[quiz_data.titulo_objeto ==\n",
    "                             f'Quiz {i} D'.format(i)].pontuacao\n",
    "\n",
    "        q_number = i\n",
    "\n",
    "        fig.add_trace(\n",
    "                  go.Box(\n",
    "                      y=y0,\n",
    "                      name=f'Quiz {q_number}'.format(q_number),\n",
    "                      marker_color='#FF7F00'\n",
    "                  ),\n",
    "                  row=subplots_rows, col=subplots_cols\n",
    "              )\n",
    "\n",
    "        fig.add_trace(\n",
    "                  go.Box(\n",
    "                      y=y1,\n",
    "                      name=f'Quiz {q_number} D'.format(q_number),\n",
    "                      marker_color='#593493'\n",
    "                  ),\n",
    "                  row=subplots_rows, col=subplots_cols\n",
    "              )\n",
    "\n",
    "        if subplots_cols == n_cols:\n",
    "            subplots_cols = 1\n",
    "            subplots_rows += 1\n",
    "        else:\n",
    "            subplots_cols += 1\n",
    "\n",
    "\n",
    "    fig.update_layout(title_text=\"Quiz\", showlegend=False, \n",
    "                      height=1000, width=1250,)\n",
    "    fig.update_traces(boxmean=True)\n",
    "    fig.update_traces(orientation='v')\n",
    "    fig.show()\n",
    "\n",
    "\n",
    "def plot_quiz_box_total(quiz_data):\n",
    "    y0 = quiz_data[quiz_data.titulo_objeto.str.endswith(\"D\")].pontuacao\n",
    "    y1 = quiz_data[~quiz_data.titulo_objeto.str.endswith(\"D\")].pontuacao\n",
    "    fig = go.Figure()\n",
    "    fig.add_trace(go.Box(y=y0,name='Quiz', marker_color='#FF7F00'))\n",
    "    fig.add_trace(go.Box(y=y1,name='Quiz D',marker_color='#593493'))\n",
    "    fig.update_traces(boxmean=True)\n",
    "    fig.update_traces(orientation='v')\n",
    "    fig.update_layout(title_text=\"Quiz Demais Cursos\", height=400, width=600)\n",
    "    fig.show()"
   ]
  },
  {
   "cell_type": "markdown",
   "metadata": {},
   "source": [
    "### Visualizando Histogramas"
   ]
  },
  {
   "cell_type": "code",
   "execution_count": null,
   "metadata": {},
   "outputs": [],
   "source": [
    "plot_quiz_hist(quiz_data=enfermagem, n_rows=5, n_cols=3)"
   ]
  },
  {
   "cell_type": "code",
   "execution_count": null,
   "metadata": {},
   "outputs": [],
   "source": [
    "plot_quiz_hist(quiz_data=demais_cursos, n_rows=5, n_cols=3)"
   ]
  },
  {
   "cell_type": "markdown",
   "metadata": {},
   "source": [
    "### Visualizando BarPlots"
   ]
  },
  {
   "cell_type": "code",
   "execution_count": null,
   "metadata": {},
   "outputs": [],
   "source": [
    "quiz_metrics=create_quiz_metrics_dataset(enfermagem)\n",
    "plot_quiz_bar(quiz_data=quiz_metrics,metric='mean', n_rows=5, n_cols=3)"
   ]
  },
  {
   "cell_type": "markdown",
   "metadata": {},
   "source": [
    "### Visualizando BoxPlots"
   ]
  },
  {
   "cell_type": "code",
   "execution_count": null,
   "metadata": {},
   "outputs": [],
   "source": [
    "plot_quiz_box(quiz_data=enfermagem, n_rows=5, n_cols=3)"
   ]
  },
  {
   "cell_type": "code",
   "execution_count": null,
   "metadata": {},
   "outputs": [],
   "source": [
    "plot_quiz_box(quiz_data=demais_cursos, n_rows=5, n_cols=3)"
   ]
  },
  {
   "cell_type": "code",
   "execution_count": null,
   "metadata": {},
   "outputs": [],
   "source": [
    "plot_quiz_box_total(enfermagem)"
   ]
  }
 ],
 "metadata": {
  "kernelspec": {
   "display_name": "Python 3.10.4 ('quiz-env': venv)",
   "language": "python",
   "name": "python3"
  },
  "language_info": {
   "codemirror_mode": {
    "name": "ipython",
    "version": 3
   },
   "file_extension": ".py",
   "mimetype": "text/x-python",
   "name": "python",
   "nbconvert_exporter": "python",
   "pygments_lexer": "ipython3",
   "version": "3.10.4"
  },
  "orig_nbformat": 4,
  "vscode": {
   "interpreter": {
    "hash": "725fc023d27e7fc65a9abf685aae75c32bc78213a2fd41bb48b16afd185e2135"
   }
  }
 },
 "nbformat": 4,
 "nbformat_minor": 2
}
